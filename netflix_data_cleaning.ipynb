{
  "nbformat": 4,
  "nbformat_minor": 0,
  "metadata": {
    "colab": {
      "provenance": [],
      "authorship_tag": "ABX9TyMoOGSkVixzHLIh7BRlXAmA",
      "include_colab_link": true
    },
    "kernelspec": {
      "name": "python3",
      "display_name": "Python 3"
    },
    "language_info": {
      "name": "python"
    }
  },
  "cells": [
    {
      "cell_type": "markdown",
      "metadata": {
        "id": "view-in-github",
        "colab_type": "text"
      },
      "source": [
        "<a href=\"https://colab.research.google.com/github/datasriram/task-1-netflix-cleaning/blob/main/netflix_data_cleaning.ipynb\" target=\"_parent\"><img src=\"https://colab.research.google.com/assets/colab-badge.svg\" alt=\"Open In Colab\"/></a>"
      ]
    },
    {
      "cell_type": "code",
      "execution_count": null,
      "metadata": {
        "id": "hTPRVvEmnAHK"
      },
      "outputs": [],
      "source": [
        "# STEP 1: Import Required Libraries\n",
        "import pandas as pd\n",
        "import numpy as np\n",
        "import matplotlib.pyplot as plt\n",
        "import seaborn as sns\n",
        "\n",
        "# STEP 2: Load the Netflix Dataset\n",
        "url = 'https://raw.githubusercontent.com/sriyourgithubusername/task-1-netflix-cleaning/main/netflix_titles.csv'  # <-- replace later if needed\n",
        "df = pd.read_csv(url)  # OR use df = pd.read_csv('/path/to/netflix_titles.csv') if uploading\n",
        "\n",
        "# STEP 3: Basic Info\n",
        "print(df.head())\n",
        "print(df.info())\n",
        "print(df.describe())\n",
        "print(df.isnull().sum())\n",
        "\n",
        "# STEP 4: Handle Missing Values\n",
        "# Fill missing values or drop them based on column type\n",
        "df['director'].fillna('Unknown', inplace=True)\n",
        "df['cast'].fillna('Not Available', inplace=True)\n",
        "df['country'].fillna(df['country'].mode()[0], inplace=True)\n",
        "df.dropna(subset=['date_added'], inplace=True)\n",
        "\n",
        "# STEP 5: Convert 'date_added' to datetime\n",
        "df['date_added'] = pd.to_datetime(df['date_added'])\n",
        "\n",
        "# STEP 6: Feature Engineering\n",
        "df['year_added'] = df['date_added'].dt.year\n",
        "df['month_added'] = df['date_added'].dt.month\n",
        "\n",
        "# STEP 7: Encoding 'type' column (Movie/TV Show)\n",
        "df['type_encoded'] = df['type'].map({'Movie': 0, 'TV Show': 1})\n",
        "\n",
        "# STEP 8: Visualizing Outliers (Duration may have noise)\n",
        "sns.boxplot(data=df[df['duration'].str.contains('min', na=False)], x='duration', color='orange')\n",
        "plt.xticks(rotation=90)\n",
        "plt.title(\"Duration Boxplot (Only Movies)\")\n",
        "plt.show()\n",
        "\n",
        "# STEP 9: Save cleaned data (optional)\n",
        "df.to_csv('cleaned_netflix_data.csv', index=False)\n"
      ]
    }
  ]
}